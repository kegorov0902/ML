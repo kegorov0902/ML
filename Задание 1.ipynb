{
 "cells": [
  {
   "cell_type": "markdown",
   "id": "cf077c85",
   "metadata": {},
   "source": [
    "# Задание 1"
   ]
  },
  {
   "cell_type": "markdown",
   "id": "8e712e9a",
   "metadata": {},
   "source": [
    "# Подключение библиотек"
   ]
  },
  {
   "cell_type": "code",
   "execution_count": 11,
   "id": "a0ca5366",
   "metadata": {},
   "outputs": [],
   "source": [
    "import pandas as pd\n",
    "import seaborn as sns\n",
    "import numpy as np\n",
    "import sklearn\n",
    "import matplotlib as plt\n",
    "\n",
    "import requests\n",
    "import io"
   ]
  },
  {
   "cell_type": "markdown",
   "id": "c6b919a6",
   "metadata": {},
   "source": [
    "# Описание задачи\n",
    "\n",
    "Прим.: Задача ниже была взята отчасти из других источников, отчасти из головы, т.к. датасет шёл в виде голых данных, задачи к нему не прилагалось.\n",
    "\n",
    "Данный датасет представляет собой набор демографических данных для 234 стран. Данные взяты за несколько лет. \n",
    "Также есть сведения о площади стран, их географическом положении, рейтинг по количеству населения и рейтинг по степени прироста населения.\n",
    "\n",
    "Задачей может являться построение модели изменения населения в мире и классификация по рейтингу количества населения и/или степени прироста населения отдельных стран."
   ]
  },
  {
   "cell_type": "markdown",
   "id": "14932586",
   "metadata": {},
   "source": [
    "# Чтение данных"
   ]
  },
  {
   "cell_type": "code",
   "execution_count": 15,
   "id": "cdc8fe54",
   "metadata": {},
   "outputs": [
    {
     "name": "stdout",
     "output_type": "stream",
     "text": [
      "   Rank CCA3         Country           Capital Continent  2022 Population  \\\n",
      "0    36  AFG     Afghanistan             Kabul      Asia         41128771   \n",
      "1   138  ALB         Albania            Tirana    Europe          2842321   \n",
      "2    34  DZA         Algeria           Algiers    Africa         44903225   \n",
      "3   213  ASM  American Samoa         Pago Pago   Oceania            44273   \n",
      "4   203  AND         Andorra  Andorra la Vella    Europe            79824   \n",
      "\n",
      "   2020 Population  2015 Population  2010 Population  2000 Population  \\\n",
      "0         38972230         33753499         28189672         19542982   \n",
      "1          2866849          2882481          2913399          3182021   \n",
      "2         43451666         39543154         35856344         30774621   \n",
      "3            46189            51368            54849            58230   \n",
      "4            77700            71746            71519            66097   \n",
      "\n",
      "   1990 Population  1980 Population  1970 Population  Area (km²)  \\\n",
      "0         10694796         12486631         10752971      652230   \n",
      "1          3295066          2941651          2324731       28748   \n",
      "2         25518074         18739378         13795915     2381741   \n",
      "3            47818            32886            27075         199   \n",
      "4            53569            35611            19860         468   \n",
      "\n",
      "   Density (per km²)  Growth Rate  World Population Percentage  \n",
      "0            63.0587       1.0257                         0.52  \n",
      "1            98.8702       0.9957                         0.04  \n",
      "2            18.8531       1.0164                         0.56  \n",
      "3           222.4774       0.9831                         0.00  \n",
      "4           170.5641       1.0100                         0.00  \n"
     ]
    }
   ],
   "source": [
    "#загрузка и вывод начала таблицы\n",
    "\n",
    "url = \"https://raw.githubusercontent.com/kegorov0902/ML/main/world_population.csv\" # Make sure the url is the raw version of the file on GitHub\n",
    "download = requests.get(url).content\n",
    "\n",
    "df = pd.read_csv(io.StringIO(download.decode('utf-8')))\n",
    "\n",
    "print (df.head())"
   ]
  },
  {
   "cell_type": "code",
   "execution_count": 16,
   "id": "d366e2ba",
   "metadata": {},
   "outputs": [
    {
     "data": {
      "text/plain": [
       "(234, 17)"
      ]
     },
     "execution_count": 16,
     "metadata": {},
     "output_type": "execute_result"
    }
   ],
   "source": [
    "#вывод формы данных\n",
    "\n",
    "df.shape"
   ]
  },
  {
   "cell_type": "raw",
   "id": "e18bc3fb",
   "metadata": {},
   "source": [
    "В этой таблице каждая строка содержит информацию об одной стране, столбцы соотвествуют одной категории данных. Ниже приведён список характеристик(коих 17 штук):\n",
    "\n",
    "1. Место в мире по количеству населения(п.: Афганистан к моменту составления датасета находился на 36 месте, сейчас сместился на 37)\n",
    "2. Код CCA3\n",
    "3. Название страны\n",
    "4. Столица\n",
    "5. Континент, на котором страна находится\n",
    "6 - 13 - количество населения в разные годы\n",
    "14. Площадь(в км^2)\n",
    "15. Плотность населения(на км^2)\n",
    "16. Рейтинг прироста населения\n",
    "17. Процент от мирового населения"
   ]
  },
  {
   "cell_type": "code",
   "execution_count": 19,
   "id": "30bc8129",
   "metadata": {},
   "outputs": [
    {
     "name": "stdout",
     "output_type": "stream",
     "text": [
      "<class 'pandas.core.frame.DataFrame'>\n",
      "RangeIndex: 234 entries, 0 to 233\n",
      "Data columns (total 17 columns):\n",
      " #   Column                       Non-Null Count  Dtype  \n",
      "---  ------                       --------------  -----  \n",
      " 0   Rank                         234 non-null    int64  \n",
      " 1   CCA3                         234 non-null    object \n",
      " 2   Country                      234 non-null    object \n",
      " 3   Capital                      234 non-null    object \n",
      " 4   Continent                    234 non-null    object \n",
      " 5   2022 Population              234 non-null    int64  \n",
      " 6   2020 Population              234 non-null    int64  \n",
      " 7   2015 Population              234 non-null    int64  \n",
      " 8   2010 Population              234 non-null    int64  \n",
      " 9   2000 Population              234 non-null    int64  \n",
      " 10  1990 Population              234 non-null    int64  \n",
      " 11  1980 Population              234 non-null    int64  \n",
      " 12  1970 Population              234 non-null    int64  \n",
      " 13  Area (km²)                   234 non-null    int64  \n",
      " 14  Density (per km²)            234 non-null    float64\n",
      " 15  Growth Rate                  234 non-null    float64\n",
      " 16  World Population Percentage  234 non-null    float64\n",
      "dtypes: float64(3), int64(10), object(4)\n",
      "memory usage: 31.2+ KB\n"
     ]
    }
   ],
   "source": [
    "#подробное описание таблицы\n",
    "\n",
    "df.info()"
   ]
  },
  {
   "cell_type": "markdown",
   "id": "04ae3259",
   "metadata": {},
   "source": [
    "# Визуализация данных"
   ]
  },
  {
   "cell_type": "code",
   "execution_count": null,
   "id": "53d9f934",
   "metadata": {},
   "outputs": [],
   "source": []
  }
 ],
 "metadata": {
  "kernelspec": {
   "display_name": "Python 3 (ipykernel)",
   "language": "python",
   "name": "python3"
  },
  "language_info": {
   "codemirror_mode": {
    "name": "ipython",
    "version": 3
   },
   "file_extension": ".py",
   "mimetype": "text/x-python",
   "name": "python",
   "nbconvert_exporter": "python",
   "pygments_lexer": "ipython3",
   "version": "3.7.3"
  }
 },
 "nbformat": 4,
 "nbformat_minor": 5
}
